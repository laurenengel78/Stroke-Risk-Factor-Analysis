{
 "cells": [
  {
   "cell_type": "markdown",
   "id": "ebc609c5",
   "metadata": {},
   "source": [
    "* Author: Lauren Engel\n",
    "* Major: Computer Science\n",
    "* Creation Date: April 25, 2022\n",
    "* Due Date: May 11, 2022\n",
    "* Course: CSC 223 010\n",
    "* Professor Name: Mr. Earl\n",
    "* Assignment: Final Project\n",
    "* Filename: main.ipynb\n",
    "* Purpose: This notebook will analyze data about patients who have and have not had a stroke and determine what is linked to strokes\n",
    "* Data Source: https://www.kaggle.com/datasets/fedesoriano/stroke-prediction-dataset"
   ]
  },
  {
   "cell_type": "markdown",
   "id": "a35ef15c",
   "metadata": {},
   "source": [
    "## Introduction\n",
    "`The dataset being analyzed in this project includes information about both patients who have and have not had a stroke. The data includes a variety of attributes about both groups of patients, such as age, their smoking status, and more. By comparing the characteristics of those who had a stroke and those who haven't, this project will determine what causes a person to be at a higher risk of having a stroke.`"
   ]
  },
  {
   "cell_type": "code",
   "execution_count": 63,
   "id": "f9379853",
   "metadata": {},
   "outputs": [],
   "source": [
    "%matplotlib inline\n",
    "import numpy as np\n",
    "import pandas as pd\n",
    "import matplotlib.pyplot as plt"
   ]
  },
  {
   "cell_type": "code",
   "execution_count": 64,
   "id": "d27426f2",
   "metadata": {},
   "outputs": [],
   "source": [
    "# Import dataset, separate stroke patients from non-stroke patients\n",
    "stroke_data = pd.read_csv('healthcare-dataset-stroke-data.csv', index_col = 'id')\n",
    "non_stroke_data = stroke_data[stroke_data['stroke'] == 0] # Patients who haven't had a stroke\n",
    "stroke_data = stroke_data[stroke_data['stroke'] == 1] # Patients who have had a stroke"
   ]
  },
  {
   "cell_type": "markdown",
   "id": "2e25e4aa",
   "metadata": {},
   "source": [
    "## Visualization of a Quanatitive Variable"
   ]
  },
  {
   "cell_type": "markdown",
   "id": "0dc4a0d6",
   "metadata": {},
   "source": [
    "`Here, we will look at the ages of people who have had a stroke and display the data in a table and in a histogram.`"
   ]
  },
  {
   "cell_type": "code",
   "execution_count": 65,
   "id": "5f4bd913",
   "metadata": {
    "scrolled": false
   },
   "outputs": [
    {
     "name": "stdout",
     "output_type": "stream",
     "text": [
      "1.32      1\n",
      "14.00     1\n",
      "32.00     1\n",
      "38.00     2\n",
      "39.00     3\n",
      "42.00     1\n",
      "43.00     1\n",
      "45.00     3\n",
      "46.00     1\n",
      "47.00     1\n",
      "48.00     2\n",
      "49.00     3\n",
      "50.00     3\n",
      "51.00     4\n",
      "52.00     2\n",
      "53.00     2\n",
      "54.00     6\n",
      "55.00     2\n",
      "56.00     3\n",
      "57.00    11\n",
      "58.00     7\n",
      "59.00     8\n",
      "60.00     4\n",
      "61.00     6\n",
      "63.00     9\n",
      "64.00     3\n",
      "65.00     3\n",
      "66.00     4\n",
      "67.00     3\n",
      "68.00     9\n",
      "69.00     6\n",
      "70.00     6\n",
      "71.00     7\n",
      "72.00     6\n",
      "73.00     4\n",
      "74.00     9\n",
      "75.00     6\n",
      "76.00    10\n",
      "77.00     8\n",
      "78.00    21\n",
      "79.00    17\n",
      "80.00    17\n",
      "81.00    14\n",
      "82.00     9\n",
      "Name: age, dtype: int64\n"
     ]
    },
    {
     "data": {
      "image/png": "[encoded data removed]",
      "text/plain": [
       "<Figure size 432x288 with 1 Axes>"
      ]
     },
     "metadata": {
      "needs_background": "light"
     },
     "output_type": "display_data"
    }
   ],
   "source": [
    "# Quanatitive Variable - Age\n",
    "\n",
    "# Displays ages of stroke patients and how many of each age\n",
    "ages = stroke_data['age'].value_counts().sort_index()\n",
    "print(ages)\n",
    "\n",
    "fig = plt.figure()\n",
    "plt.hist(stroke_data['age'], bins = 10, color = 'darkturquoise', edgecolor = 'white')\n",
    "plt.title('Stroke Patients by Age')\n",
    "plt.xlabel('Age of Patient')\n",
    "plt.ylabel('Number of Patients');"
   ]
  },
  {
   "cell_type": "markdown",
   "id": "3885731b",
   "metadata": {},
   "source": [
    "### Quanatitive Summary\n",
    "`We can see that the majority of patients who have had a stroke were between about 70 to 80 years old, with the risk of having a stroke increasing beginning around age 45 to 50. There is a sharp increase of having a stroke starting around the age of 75. We can also see that age doesn't always mean a person will or will not have a stroke, as there are a few younger people - some people in their 30s, a teenager, and even a 1 year old - who have had one as well.`"
   ]
  },
  {
   "cell_type": "markdown",
   "id": "646caee8",
   "metadata": {},
   "source": [
    "## Visualization of Categorical Variables\n",
    "`Here, we will see if a patient having hypertension (high blood pressure) or heart disease increases their risk for having a stroke.`"
   ]
  },
  {
   "cell_type": "code",
   "execution_count": 66,
   "id": "25581a43",
   "metadata": {},
   "outputs": [
    {
     "data": {
      "image/png": "[encoded data removed]",
      "text/plain": [
       "<Figure size 432x288 with 1 Axes>"
      ]
     },
     "metadata": {
      "needs_background": "light"
     },
     "output_type": "display_data"
    },
    {
     "data": {
      "image/png": "[encoded data removed]",
      "text/plain": [
       "<Figure size 432x288 with 1 Axes>"
      ]
     },
     "metadata": {
      "needs_background": "light"
     },
     "output_type": "display_data"
    }
   ],
   "source": [
    "# Categorical Data - Hypertension\n",
    "\n",
    "fig2 = plt.figure()\n",
    "hypertension = stroke_data['hypertension'].value_counts()\n",
    "plt.bar(hypertension.index, hypertension.values, color = 'turquoise')\n",
    "plt.title('Stroke Patients with Hypertension')\n",
    "plt.xticks([0, 1], ['No', 'Yes'])\n",
    "plt.xlabel('Hypertension?')\n",
    "plt.ylabel('Number of Patients')\n",
    "\n",
    "# Categorical Data - Heart Disease\n",
    "\n",
    "fig3 = plt.figure()\n",
    "heart_disease = stroke_data['heart_disease'].value_counts()\n",
    "plt.bar(heart_disease.index, heart_disease.values, color = 'turquoise')\n",
    "plt.title('Stroke Patients with Heart Disease')\n",
    "plt.xticks([0, 1], ['No', 'Yes'])\n",
    "plt.xlabel('Heart Disease?')\n",
    "plt.ylabel('Number of Patients');"
   ]
  },
  {
   "cell_type": "markdown",
   "id": "14d7f9e4",
   "metadata": {},
   "source": [
    "### Categorical Summary\n",
    "`The graphs show that hypertension and heart disease have little effect on increasing the risk of a stroke, as there are more stroke patients who haven't had hypertension or heart disease than those who have. However, since there are more stroke patients with hypertension then with heart disease, we can infer that hypertension puts a person at a higher risk for having a stroke than heart disease.`"
   ]
  },
  {
   "cell_type": "markdown",
   "id": "50b4fb26",
   "metadata": {},
   "source": [
    "## Grouping Data\n",
    "`Here, we will compute the average age of stroke patients for each smoking status (formerly smoked, currently smokes, and never smoked) and see if smoking is linked to having a stroke earlier in life.`"
   ]
  },
  {
   "cell_type": "code",
   "execution_count": 67,
   "id": "07c7700b",
   "metadata": {},
   "outputs": [
    {
     "data": {
      "image/png": "[encoded data removed]",
      "text/plain": [
       "<Figure size 432x288 with 1 Axes>"
      ]
     },
     "metadata": {
      "needs_background": "light"
     },
     "output_type": "display_data"
    }
   ],
   "source": [
    "# Grouping Data - Smoking Status/Average Age\n",
    "\n",
    "stroke_smoking = stroke_data[['age', 'smoking_status']] # Create new DataFrame with just ages and smoking statuses\n",
    "\n",
    "# Remove patients with unknown smoking status from data\n",
    "# Used this resource: https://www.geeksforgeeks.org/how-to-drop-rows-in-dataframe-by-conditions-on-column-values/\n",
    "unknowns = stroke_smoking[stroke_smoking['smoking_status'] == 'Unknown' ].index\n",
    "stroke_smoking.drop(unknowns, inplace = True)\n",
    "\n",
    "stroke_smoking = stroke_smoking.groupby(['smoking_status']).mean() # Get average age for each smoking status\n",
    "\n",
    "fig4 = plt.figure()\n",
    "plt.barh(stroke_smoking.index, stroke_smoking['age'], color = 'mediumturquoise')\n",
    "plt.title('Average Age of Stroke Patients by Smoking Status')\n",
    "plt.yticks(['smokes', 'never smoked', 'formerly smoked'], ['Smokes', 'Never Smoked', 'Formerly Smoked'])\n",
    "plt.xlabel('Age')\n",
    "plt.ylabel('Smoking Status');"
   ]
  },
  {
   "cell_type": "markdown",
   "id": "18c6eddc",
   "metadata": {},
   "source": [
    "### Grouping Summary\n",
    "`We can see that smoking is linked to having a stroke at an younger age, since the average age of stroke patients who currently smoke - around 63 years old - is lower than the average age of those who formerly or never smoked. In addition, a person's chance of getting a stroke earlier in life increases even if they have stopped smoking, as the average age for a stroke patient who quit smoking is lower than the average age of those who never smoked. However, since the average age for a stroke patient who formerly smoked is closer to that of a patient who never smoked, quitting smoking can still greatly decrease a person's chance of having a stroke.`"
   ]
  },
  {
   "cell_type": "markdown",
   "id": "8f4da1e2",
   "metadata": {},
   "source": [
    "## Joining Data\n",
    "`Here, we will compare the average glucose level per age for both groups (patients who have had a stroke and those who haven't) and see if glucose levels have an effect on whether a person has a stroke.`"
   ]
  },
  {
   "cell_type": "code",
   "execution_count": 68,
   "id": "6f1402ee",
   "metadata": {},
   "outputs": [
    {
     "data": {
      "text/html": [
       "<style type=\"text/css\">\n",
       "#T_f82e3_ th {\n",
       "  background-color: paleturquoise;\n",
       "}\n",
       "#T_f82e3_ tr:hover {\n",
       "  background-color: lemonchiffon;\n",
       "}\n",
       "</style>\n",
       "<table id=\"T_f82e3_\">\n",
       "  <thead>\n",
       "    <tr>\n",
       "      <th class=\"blank level0\" >&nbsp;</th>\n",
       "      <th class=\"col_heading level0 col0\" >Avg. Glucose Level - Stroke</th>\n",
       "      <th class=\"col_heading level0 col1\" >Avg. Glucose Level - Non-Stroke</th>\n",
       "    </tr>\n",
       "    <tr>\n",
       "      <th class=\"index_name level0\" >Age</th>\n",
       "      <th class=\"blank col0\" >&nbsp;</th>\n",
       "      <th class=\"blank col1\" >&nbsp;</th>\n",
       "    </tr>\n",
       "  </thead>\n",
       "  <tbody>\n",
       "    <tr>\n",
       "      <th id=\"T_f82e3_level0_row0\" class=\"row_heading level0 row0\" >1.32</th>\n",
       "      <td id=\"T_f82e3_row0_col0\" class=\"data row0 col0\" >70.370000</td>\n",
       "      <td id=\"T_f82e3_row0_col1\" class=\"data row0 col1\" >82.254286</td>\n",
       "    </tr>\n",
       "    <tr>\n",
       "      <th id=\"T_f82e3_level0_row1\" class=\"row_heading level0 row1\" >14.0</th>\n",
       "      <td id=\"T_f82e3_row1_col0\" class=\"data row1 col0\" >57.930000</td>\n",
       "      <td id=\"T_f82e3_row1_col1\" class=\"data row1 col1\" >101.924151</td>\n",
       "    </tr>\n",
       "    <tr>\n",
       "      <th id=\"T_f82e3_level0_row2\" class=\"row_heading level0 row2\" >32.0</th>\n",
       "      <td id=\"T_f82e3_row2_col0\" class=\"data row2 col0\" >76.130000</td>\n",
       "      <td id=\"T_f82e3_row2_col1\" class=\"data row2 col1\" >89.242571</td>\n",
       "    </tr>\n",
       "    <tr>\n",
       "      <th id=\"T_f82e3_level0_row3\" class=\"row_heading level0 row3\" >38.0</th>\n",
       "      <td id=\"T_f82e3_row3_col0\" class=\"data row3 col0\" >91.865000</td>\n",
       "      <td id=\"T_f82e3_row3_col1\" class=\"data row3 col1\" >108.165143</td>\n",
       "    </tr>\n",
       "    <tr>\n",
       "      <th id=\"T_f82e3_level0_row4\" class=\"row_heading level0 row4\" >39.0</th>\n",
       "      <td id=\"T_f82e3_row4_col0\" class=\"data row4 col0\" >79.696667</td>\n",
       "      <td id=\"T_f82e3_row4_col1\" class=\"data row4 col1\" >103.360882</td>\n",
       "    </tr>\n",
       "    <tr>\n",
       "      <th id=\"T_f82e3_level0_row5\" class=\"row_heading level0 row5\" >42.0</th>\n",
       "      <td id=\"T_f82e3_row5_col0\" class=\"data row5 col0\" >83.410000</td>\n",
       "      <td id=\"T_f82e3_row5_col1\" class=\"data row5 col1\" >99.231714</td>\n",
       "    </tr>\n",
       "    <tr>\n",
       "      <th id=\"T_f82e3_level0_row6\" class=\"row_heading level0 row6\" >43.0</th>\n",
       "      <td id=\"T_f82e3_row6_col0\" class=\"data row6 col0\" >143.430000</td>\n",
       "      <td id=\"T_f82e3_row6_col1\" class=\"data row6 col1\" >95.660435</td>\n",
       "    </tr>\n",
       "    <tr>\n",
       "      <th id=\"T_f82e3_level0_row7\" class=\"row_heading level0 row7\" >45.0</th>\n",
       "      <td id=\"T_f82e3_row7_col0\" class=\"data row7 col0\" >127.320000</td>\n",
       "      <td id=\"T_f82e3_row7_col1\" class=\"data row7 col1\" >96.896829</td>\n",
       "    </tr>\n",
       "    <tr>\n",
       "      <th id=\"T_f82e3_level0_row8\" class=\"row_heading level0 row8\" >46.0</th>\n",
       "      <td id=\"T_f82e3_row8_col0\" class=\"data row8 col0\" >78.180000</td>\n",
       "      <td id=\"T_f82e3_row8_col1\" class=\"data row8 col1\" >96.912131</td>\n",
       "    </tr>\n",
       "    <tr>\n",
       "      <th id=\"T_f82e3_level0_row9\" class=\"row_heading level0 row9\" >47.0</th>\n",
       "      <td id=\"T_f82e3_row9_col0\" class=\"data row9 col0\" >86.940000</td>\n",
       "      <td id=\"T_f82e3_row9_col1\" class=\"data row9 col1\" >106.420811</td>\n",
       "    </tr>\n",
       "    <tr>\n",
       "      <th id=\"T_f82e3_level0_row10\" class=\"row_heading level0 row10\" >48.0</th>\n",
       "      <td id=\"T_f82e3_row10_col0\" class=\"data row10 col0\" >79.155000</td>\n",
       "      <td id=\"T_f82e3_row10_col1\" class=\"data row10 col1\" >109.998437</td>\n",
       "    </tr>\n",
       "    <tr>\n",
       "      <th id=\"T_f82e3_level0_row11\" class=\"row_heading level0 row11\" >49.0</th>\n",
       "      <td id=\"T_f82e3_row11_col0\" class=\"data row11 col0\" >112.333333</td>\n",
       "      <td id=\"T_f82e3_row11_col1\" class=\"data row11 col1\" >104.825526</td>\n",
       "    </tr>\n",
       "    <tr>\n",
       "      <th id=\"T_f82e3_level0_row12\" class=\"row_heading level0 row12\" >50.0</th>\n",
       "      <td id=\"T_f82e3_row12_col0\" class=\"data row12 col0\" >114.250000</td>\n",
       "      <td id=\"T_f82e3_row12_col1\" class=\"data row12 col1\" >103.802375</td>\n",
       "    </tr>\n",
       "    <tr>\n",
       "      <th id=\"T_f82e3_level0_row13\" class=\"row_heading level0 row13\" >51.0</th>\n",
       "      <td id=\"T_f82e3_row13_col0\" class=\"data row13 col0\" >117.275000</td>\n",
       "      <td id=\"T_f82e3_row13_col1\" class=\"data row13 col1\" >114.874756</td>\n",
       "    </tr>\n",
       "    <tr>\n",
       "      <th id=\"T_f82e3_level0_row14\" class=\"row_heading level0 row14\" >52.0</th>\n",
       "      <td id=\"T_f82e3_row14_col0\" class=\"data row14 col0\" >164.940000</td>\n",
       "      <td id=\"T_f82e3_row14_col1\" class=\"data row14 col1\" >112.551591</td>\n",
       "    </tr>\n",
       "    <tr>\n",
       "      <th id=\"T_f82e3_level0_row15\" class=\"row_heading level0 row15\" >53.0</th>\n",
       "      <td id=\"T_f82e3_row15_col0\" class=\"data row15 col0\" >63.360000</td>\n",
       "      <td id=\"T_f82e3_row15_col1\" class=\"data row15 col1\" >111.420482</td>\n",
       "    </tr>\n",
       "    <tr>\n",
       "      <th id=\"T_f82e3_level0_row16\" class=\"row_heading level0 row16\" >54.0</th>\n",
       "      <td id=\"T_f82e3_row16_col0\" class=\"data row16 col0\" >122.216667</td>\n",
       "      <td id=\"T_f82e3_row16_col1\" class=\"data row16 col1\" >117.107284</td>\n",
       "    </tr>\n",
       "    <tr>\n",
       "      <th id=\"T_f82e3_level0_row17\" class=\"row_heading level0 row17\" >55.0</th>\n",
       "      <td id=\"T_f82e3_row17_col0\" class=\"data row17 col0\" >151.690000</td>\n",
       "      <td id=\"T_f82e3_row17_col1\" class=\"data row17 col1\" >99.679012</td>\n",
       "    </tr>\n",
       "    <tr>\n",
       "      <th id=\"T_f82e3_level0_row18\" class=\"row_heading level0 row18\" >56.0</th>\n",
       "      <td id=\"T_f82e3_row18_col0\" class=\"data row18 col0\" >198.903333</td>\n",
       "      <td id=\"T_f82e3_row18_col1\" class=\"data row18 col1\" >115.270000</td>\n",
       "    </tr>\n",
       "    <tr>\n",
       "      <th id=\"T_f82e3_level0_row19\" class=\"row_heading level0 row19\" >57.0</th>\n",
       "      <td id=\"T_f82e3_row19_col0\" class=\"data row19 col0\" >141.912727</td>\n",
       "      <td id=\"T_f82e3_row19_col1\" class=\"data row19 col1\" >110.217143</td>\n",
       "    </tr>\n",
       "    <tr>\n",
       "      <th id=\"T_f82e3_level0_row20\" class=\"row_heading level0 row20\" >58.0</th>\n",
       "      <td id=\"T_f82e3_row20_col0\" class=\"data row20 col0\" >120.524286</td>\n",
       "      <td id=\"T_f82e3_row20_col1\" class=\"data row20 col1\" >112.633934</td>\n",
       "    </tr>\n",
       "    <tr>\n",
       "      <th id=\"T_f82e3_level0_row21\" class=\"row_heading level0 row21\" >59.0</th>\n",
       "      <td id=\"T_f82e3_row21_col0\" class=\"data row21 col0\" >127.056250</td>\n",
       "      <td id=\"T_f82e3_row21_col1\" class=\"data row21 col1\" >119.355139</td>\n",
       "    </tr>\n",
       "    <tr>\n",
       "      <th id=\"T_f82e3_level0_row22\" class=\"row_heading level0 row22\" >60.0</th>\n",
       "      <td id=\"T_f82e3_row22_col0\" class=\"data row22 col0\" >122.900000</td>\n",
       "      <td id=\"T_f82e3_row22_col1\" class=\"data row22 col1\" >119.024265</td>\n",
       "    </tr>\n",
       "    <tr>\n",
       "      <th id=\"T_f82e3_level0_row23\" class=\"row_heading level0 row23\" >61.0</th>\n",
       "      <td id=\"T_f82e3_row23_col0\" class=\"data row23 col0\" >138.781667</td>\n",
       "      <td id=\"T_f82e3_row23_col1\" class=\"data row23 col1\" >113.437571</td>\n",
       "    </tr>\n",
       "    <tr>\n",
       "      <th id=\"T_f82e3_level0_row24\" class=\"row_heading level0 row24\" >63.0</th>\n",
       "      <td id=\"T_f82e3_row24_col0\" class=\"data row24 col0\" >165.364444</td>\n",
       "      <td id=\"T_f82e3_row24_col1\" class=\"data row24 col1\" >114.768769</td>\n",
       "    </tr>\n",
       "    <tr>\n",
       "      <th id=\"T_f82e3_level0_row25\" class=\"row_heading level0 row25\" >64.0</th>\n",
       "      <td id=\"T_f82e3_row25_col0\" class=\"data row25 col0\" >125.896667</td>\n",
       "      <td id=\"T_f82e3_row25_col1\" class=\"data row25 col1\" >110.148800</td>\n",
       "    </tr>\n",
       "    <tr>\n",
       "      <th id=\"T_f82e3_level0_row26\" class=\"row_heading level0 row26\" >65.0</th>\n",
       "      <td id=\"T_f82e3_row26_col0\" class=\"data row26 col0\" >125.060000</td>\n",
       "      <td id=\"T_f82e3_row26_col1\" class=\"data row26 col1\" >117.947119</td>\n",
       "    </tr>\n",
       "    <tr>\n",
       "      <th id=\"T_f82e3_level0_row27\" class=\"row_heading level0 row27\" >66.0</th>\n",
       "      <td id=\"T_f82e3_row27_col0\" class=\"data row27 col0\" >111.405000</td>\n",
       "      <td id=\"T_f82e3_row27_col1\" class=\"data row27 col1\" >122.080536</td>\n",
       "    </tr>\n",
       "    <tr>\n",
       "      <th id=\"T_f82e3_level0_row28\" class=\"row_heading level0 row28\" >67.0</th>\n",
       "      <td id=\"T_f82e3_row28_col0\" class=\"data row28 col0\" >156.583333</td>\n",
       "      <td id=\"T_f82e3_row28_col1\" class=\"data row28 col1\" >115.213696</td>\n",
       "    </tr>\n",
       "    <tr>\n",
       "      <th id=\"T_f82e3_level0_row29\" class=\"row_heading level0 row29\" >68.0</th>\n",
       "      <td id=\"T_f82e3_row29_col0\" class=\"data row29 col0\" >181.542222</td>\n",
       "      <td id=\"T_f82e3_row29_col1\" class=\"data row29 col1\" >130.465263</td>\n",
       "    </tr>\n",
       "    <tr>\n",
       "      <th id=\"T_f82e3_level0_row30\" class=\"row_heading level0 row30\" >69.0</th>\n",
       "      <td id=\"T_f82e3_row30_col0\" class=\"data row30 col0\" >120.233333</td>\n",
       "      <td id=\"T_f82e3_row30_col1\" class=\"data row30 col1\" >123.153125</td>\n",
       "    </tr>\n",
       "    <tr>\n",
       "      <th id=\"T_f82e3_level0_row31\" class=\"row_heading level0 row31\" >70.0</th>\n",
       "      <td id=\"T_f82e3_row31_col0\" class=\"data row31 col0\" >154.665000</td>\n",
       "      <td id=\"T_f82e3_row31_col1\" class=\"data row31 col1\" >119.853077</td>\n",
       "    </tr>\n",
       "    <tr>\n",
       "      <th id=\"T_f82e3_level0_row32\" class=\"row_heading level0 row32\" >71.0</th>\n",
       "      <td id=\"T_f82e3_row32_col0\" class=\"data row32 col0\" >163.191429</td>\n",
       "      <td id=\"T_f82e3_row32_col1\" class=\"data row32 col1\" >135.523519</td>\n",
       "    </tr>\n",
       "    <tr>\n",
       "      <th id=\"T_f82e3_level0_row33\" class=\"row_heading level0 row33\" >72.0</th>\n",
       "      <td id=\"T_f82e3_row33_col0\" class=\"data row33 col0\" >155.191667</td>\n",
       "      <td id=\"T_f82e3_row33_col1\" class=\"data row33 col1\" >130.570000</td>\n",
       "    </tr>\n",
       "    <tr>\n",
       "      <th id=\"T_f82e3_level0_row34\" class=\"row_heading level0 row34\" >73.0</th>\n",
       "      <td id=\"T_f82e3_row34_col0\" class=\"data row34 col0\" >168.950000</td>\n",
       "      <td id=\"T_f82e3_row34_col1\" class=\"data row34 col1\" >110.142381</td>\n",
       "    </tr>\n",
       "    <tr>\n",
       "      <th id=\"T_f82e3_level0_row35\" class=\"row_heading level0 row35\" >74.0</th>\n",
       "      <td id=\"T_f82e3_row35_col0\" class=\"data row35 col0\" >118.475556</td>\n",
       "      <td id=\"T_f82e3_row35_col1\" class=\"data row35 col1\" >113.117742</td>\n",
       "    </tr>\n",
       "    <tr>\n",
       "      <th id=\"T_f82e3_level0_row36\" class=\"row_heading level0 row36\" >75.0</th>\n",
       "      <td id=\"T_f82e3_row36_col0\" class=\"data row36 col0\" >129.378333</td>\n",
       "      <td id=\"T_f82e3_row36_col1\" class=\"data row36 col1\" >131.702340</td>\n",
       "    </tr>\n",
       "    <tr>\n",
       "      <th id=\"T_f82e3_level0_row37\" class=\"row_heading level0 row37\" >76.0</th>\n",
       "      <td id=\"T_f82e3_row37_col0\" class=\"data row37 col0\" >140.652000</td>\n",
       "      <td id=\"T_f82e3_row37_col1\" class=\"data row37 col1\" >142.735000</td>\n",
       "    </tr>\n",
       "    <tr>\n",
       "      <th id=\"T_f82e3_level0_row38\" class=\"row_heading level0 row38\" >77.0</th>\n",
       "      <td id=\"T_f82e3_row38_col0\" class=\"data row38 col0\" >148.066250</td>\n",
       "      <td id=\"T_f82e3_row38_col1\" class=\"data row38 col1\" >112.529706</td>\n",
       "    </tr>\n",
       "    <tr>\n",
       "      <th id=\"T_f82e3_level0_row39\" class=\"row_heading level0 row39\" >78.0</th>\n",
       "      <td id=\"T_f82e3_row39_col0\" class=\"data row39 col0\" >124.643810</td>\n",
       "      <td id=\"T_f82e3_row39_col1\" class=\"data row39 col1\" >118.373210</td>\n",
       "    </tr>\n",
       "    <tr>\n",
       "      <th id=\"T_f82e3_level0_row40\" class=\"row_heading level0 row40\" >79.0</th>\n",
       "      <td id=\"T_f82e3_row40_col0\" class=\"data row40 col0\" >134.599412</td>\n",
       "      <td id=\"T_f82e3_row40_col1\" class=\"data row40 col1\" >108.608676</td>\n",
       "    </tr>\n",
       "    <tr>\n",
       "      <th id=\"T_f82e3_level0_row41\" class=\"row_heading level0 row41\" >80.0</th>\n",
       "      <td id=\"T_f82e3_row41_col0\" class=\"data row41 col0\" >115.965294</td>\n",
       "      <td id=\"T_f82e3_row41_col1\" class=\"data row41 col1\" >120.994151</td>\n",
       "    </tr>\n",
       "    <tr>\n",
       "      <th id=\"T_f82e3_level0_row42\" class=\"row_heading level0 row42\" >81.0</th>\n",
       "      <td id=\"T_f82e3_row42_col0\" class=\"data row42 col0\" >118.555000</td>\n",
       "      <td id=\"T_f82e3_row42_col1\" class=\"data row42 col1\" >116.761739</td>\n",
       "    </tr>\n",
       "    <tr>\n",
       "      <th id=\"T_f82e3_level0_row43\" class=\"row_heading level0 row43\" >82.0</th>\n",
       "      <td id=\"T_f82e3_row43_col0\" class=\"data row43 col0\" >144.477778</td>\n",
       "      <td id=\"T_f82e3_row43_col1\" class=\"data row43 col1\" >127.803830</td>\n",
       "    </tr>\n",
       "  </tbody>\n",
       "</table>\n"
      ],
      "text/plain": [
       "<pandas.io.formats.style.Styler at 0x204aeee6ac0>"
      ]
     },
     "execution_count": 68,
     "metadata": {},
     "output_type": "execute_result"
    }
   ],
   "source": [
    "# Joining Data - Average Glucose Levels\n",
    "\n",
    "# Create DataFrame with average glucose levels of stroke patients\n",
    "gls_stroke = stroke_data[['age', 'avg_glucose_level']]\n",
    "gls_stroke = gls_stroke.groupby(['age']).mean()\n",
    "\n",
    "# Create DataFrame with average glucose levels of non-stroke patients\n",
    "gls_non_stroke = non_stroke_data[['age', 'avg_glucose_level']]\n",
    "gls_non_stroke = gls_non_stroke.groupby(['age']).mean()\n",
    "\n",
    "# Join both DataFrames together, only including ages that are in both DataFrames\n",
    "glucose_levels = pd.merge(gls_stroke, gls_non_stroke, on = 'age')\n",
    "# Rename columns\n",
    "glucose_levels.rename_axis('Age', inplace = True)\n",
    "glucose_levels.rename(columns = {'avg_glucose_level_x':'Avg. Glucose Level - Stroke', 'avg_glucose_level_y' : 'Avg. Glucose Level - Non-Stroke'}, inplace = True)\n",
    "\n",
    "# Format the table to look \n",
    "# Used Table Visualization documentation: https://pandas.pydata.org/docs/user_guide/style.html\n",
    "glucose_levels.style.set_table_styles([\n",
    "    {'selector' : 'th', 'props' : 'background-color: paleturquoise;'}, \n",
    "    {'selector' : 'tr:hover', 'props' : 'background-color: lemonchiffon;'}], overwrite = False)"
   ]
  },
  {
   "cell_type": "markdown",
   "id": "2ef2d028",
   "metadata": {},
   "source": [
    "### Joining Data Summary\n",
    "`This table shows that for the most part, patients who have had a stroke tend to have a higher average glucose level than patients of the same age who haven't had a stroke. Therefore, we can conclude that a higher average glucose level increases a person's chance of having a stroke. Ironically, it appears that for patients younger than 43, the average glucose level for a stroke patient is lower than that of a non-stroke patient of the same age, which could mean that when a person is young, a lower average glucose level increases their risk of getting a stroke. However, for the majority of ages, the average glucose level of a stroke patient is significantly higher.`"
   ]
  },
  {
   "cell_type": "markdown",
   "id": "e77042c2",
   "metadata": {},
   "source": [
    "## Conclusion\n",
    "`Through this analysis, we can conclude that older age, smoking, and a higher average glucose level all increase a patient's chance of having a stroke. We also discovered that heart disease and hypertension don't seem to have much of an effect on a patient's risk, although hypertension has slightly more of an effect. However, anyone of any age and health status can still get a stroke - even 1 year olds can get them. A stroke is an emergency and anyone who thinks they may be getting one should get help immediately.`"
   ]
  },
  {
   "cell_type": "code",
   "execution_count": null,
   "id": "659a45a7",
   "metadata": {},
   "outputs": [],
   "source": []
  }
 ],
 "metadata": {
  "kernelspec": {
   "display_name": "Python 3 (ipykernel)",
   "language": "python",
   "name": "python3"
  },
  "language_info": {
   "codemirror_mode": {
    "name": "ipython",
    "version": 3
   },
   "file_extension": ".py",
   "mimetype": "text/x-python",
   "name": "python",
   "nbconvert_exporter": "python",
   "pygments_lexer": "ipython3",
   "version": "3.9.7"
  }
 },
 "nbformat": 4,
 "nbformat_minor": 5
}
